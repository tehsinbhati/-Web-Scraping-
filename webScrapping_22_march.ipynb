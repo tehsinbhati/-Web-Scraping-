{
 "cells": [
  {
   "cell_type": "code",
   "execution_count": 9,
   "id": "b6c9e935",
   "metadata": {},
   "outputs": [],
   "source": [
    "#requests module is used to read content of any online website\n",
    "#if requests module is not installed use following\n",
    "#pip install requests \n",
    "import requests\n",
    "response = requests.get(\"https://www.flipkart.com/mobiles/pr?sid=tyy,4io&otracker=categorytree\")\n",
    "#request.get() method provide the raw data from specified url\n",
    "#to scrap that raw data we use beautifulSoup tools\n",
    "#beautifulSoup tools provide the list of method to fetch required\n",
    "#print(response.content)\n",
    "#if requests module is not installed use following\n",
    "#python -m pip install bs4\n",
    "#bs4 is package and BeautifulSoup is a module and class.\n",
    "from bs4 import BeautifulSoup\n",
    "#after fetching raw data 1st step.\n",
    "#create an objects of beautifulsoup\n",
    "soup = BeautifulSoup(response.content,'html.parser')\n",
    "data= soup.prettify()\n",
    "#prettify() is used format the data properly.\n"
   ]
  },
  {
   "cell_type": "code",
   "execution_count": 20,
   "id": "f749bbe2",
   "metadata": {},
   "outputs": [
    {
     "name": "stdout",
     "output_type": "stream",
     "text": [
      "mobile list length is =  24\n",
      "POCO C31 (Royal Blue, 32 GB)\n",
      "POCO C31 (Shadow Gray, 32 GB)\n",
      "POCO M3 Pro 5G (Power Black, 64 GB)\n",
      "I Kall Z5 (Blue, 16 GB)\n",
      "POCO C31 (Royal Blue, 64 GB)\n",
      "I Kall Z3 (Purple, 32 GB)\n",
      "POCO C31 (Shadow Gray, 64 GB)\n",
      "POCO M3 Pro 5G (Cool Blue, 128 GB)\n",
      "POCO M3 Pro 5G (Cool Blue, 64 GB)\n",
      "SAMSUNG Galaxy F23 5G (Aqua Blue, 128 GB)\n",
      "I Kall k-80 pen Mobile\n",
      "I Kall Z4 Ultra Series (Grey, 32 GB)\n",
      "SAMSUNG Galaxy F12 (Sky Blue, 64 GB)\n",
      "POCO M3 Pro 5G (Yellow, 64 GB)\n",
      "SAMSUNG Galaxy F23 5G (Forest Green, 128 GB)\n",
      "realme C11 2021 (Cool Blue, 32 GB)\n",
      "I Kall K19 CAR\n",
      "I Kall Z1 Ultra Series (Dark Blue, 32 GB)\n",
      "realme C11 2021 (Cool Grey, 32 GB)\n",
      "realme C11 2021 (Cool Grey, 64 GB)\n",
      "I Kall K50\n",
      "I Kall K-60\n",
      "POCO M3 Pro 5G (Power Black, 128 GB)\n",
      "realme 8 (Cyber Silver, 128 GB)\n"
     ]
    }
   ],
   "source": [
    "#now start to fetchall data using bs for methoid.\n",
    "divlist = soup.findAll('div',attrs={'class':'_4rR01T'})\n",
    "#print(divlist)\n",
    "mobileNamelist=[]\n",
    "for div in divlist:\n",
    "    mobileNamelist.append(div.text)\n",
    "print(\"mobile list length is = \", len(mobileNamelist))\n",
    "print(*mobileNamelist, sep='\\n')\n",
    "#now start to fetchall data using bs for methoid.\n",
    "\n"
   ]
  },
  {
   "cell_type": "code",
   "execution_count": 23,
   "id": "22f257cc",
   "metadata": {},
   "outputs": [
    {
     "name": "stdout",
     "output_type": "stream",
     "text": [
      "mobile price list length is =  24\n",
      "7,999\n",
      "7,999\n",
      "11,999\n",
      "4,999\n",
      "9,499\n",
      "5,899\n",
      "9,499\n",
      "13,999\n",
      "11,999\n",
      "16,999\n",
      "1,699\n",
      "5,399\n",
      "11,499\n",
      "11,999\n",
      "16,999\n",
      "7,549\n",
      "1,299\n",
      "5,399\n",
      "7,549\n",
      "9,049\n",
      "889\n",
      "1,649\n",
      "13,999\n",
      "16,099\n"
     ]
    }
   ],
   "source": [
    "divpricelist = soup.findAll('div',attrs={'class':'_30jeq3 _1_WHN1'})\n",
    "#print(divlist)\n",
    "mobilepricelist=[]\n",
    "for div in divpricelist:\n",
    "    mobilepricelist.append(div.text[1:])\n",
    "print(\"mobile price list length is = \", len(mobilepricelist))\n",
    "print(*mobilepricelist, sep='\\n')"
   ]
  },
  {
   "cell_type": "code",
   "execution_count": 35,
   "id": "992b6918",
   "metadata": {},
   "outputs": [
    {
     "name": "stdout",
     "output_type": "stream",
     "text": [
      "24\n",
      "https://rukminim2.flixcart.com/image/312/312/ku4ezrk0/mobile/p/e/4/c31-mzb0a0jin-poco-original-imag7bzqxgdhgf2n.jpeg?q=70\n",
      "https://rukminim2.flixcart.com/image/312/312/ku4ezrk0/mobile/b/o/m/c31-mzb0a0min-poco-original-imag7bzqxekkpkrv.jpeg?q=70\n",
      "https://rukminim2.flixcart.com/image/312/312/kpmy8i80/mobile/q/z/z/m3-pro-5g-mzb0952in-poco-original-imag3th6btkchjn2.jpeg?q=70\n",
      "https://rukminim2.flixcart.com/image/312/312/ktrk13k0/mobile/d/8/e/z5-z5-i-kall-original-imag7fgfrs73rebv.jpeg?q=70\n",
      "https://rukminim2.flixcart.com/image/312/312/ku4ezrk0/mobile/p/e/4/c31-mzb0a0jin-poco-original-imag7bzqxgdhgf2n.jpeg?q=70\n",
      "https://rukminim2.flixcart.com/image/312/312/ks99aq80/mobile/h/h/w/z3-z3-i-kall-original-imag5v8rnznp7xvn.jpeg?q=70\n",
      "https://rukminim2.flixcart.com/image/312/312/ku4ezrk0/mobile/b/o/m/c31-mzb0a0min-poco-original-imag7bzqxekkpkrv.jpeg?q=70\n",
      "https://rukminim2.flixcart.com/image/312/312/kpmy8i80/mobile/v/6/1/m3-pro-5g-mzb0954in-poco-original-imag3th5ggub6c3f.jpeg?q=70\n",
      "https://rukminim2.flixcart.com/image/312/312/kpmy8i80/mobile/v/6/1/m3-pro-5g-mzb0954in-poco-original-imag3th5ggub6c3f.jpeg?q=70\n",
      "https://rukminim2.flixcart.com/image/312/312/l0sgyvk0/mobile/k/x/c/-original-imagcg22czc3ggvw.jpeg?q=70\n",
      "https://rukminim2.flixcart.com/image/312/312/k3j1z0w0/mobile/f/h/y/i-kall-k-80-pen-mobile-k-80-pen-mobile-original-imafm44ffcfbs5qh.jpeg?q=70\n",
      "https://rukminim2.flixcart.com/image/312/312/kzblocw0/mobile/l/c/v/z4-ultra-series-z4-ultra-series-i-kall-original-imagbcsptrhcahde.jpeg?q=70\n",
      "https://rukminim2.flixcart.com/image/312/312/kn22m4w0/mobile/9/k/s/galaxy-f12-sm-f127glbiins-samsung-original-imagftmhhhvghq7w.jpeg?q=70\n",
      "https://rukminim2.flixcart.com/image/312/312/kpmy8i80/mobile/x/q/n/m3-pro-5g-mzb0956in-poco-original-imag3th5e4thsxjt.jpeg?q=70\n",
      "https://rukminim2.flixcart.com/image/312/312/l0sgyvk0/mobile/f/v/c/-original-imagcg22pf79cgau.jpeg?q=70\n",
      "https://rukminim2.flixcart.com/image/312/312/kqjtd3k0/mobile/o/4/x/c11-2021-rmx3231-realme-original-imag4j4yrdt7d9cj.jpeg?q=70\n",
      "https://rukminim2.flixcart.com/image/312/312/keaaavk0/mobile/j/j/e/i-kall-k-19-car-k-19-original-imafvy3a4gbhzsea.jpeg?q=70\n",
      "https://rukminim2.flixcart.com/image/312/312/kzblocw0/mobile/m/r/l/z1-ultra-series-z1-ultra-series-i-kall-original-imagbcw8qthpnh6q.jpeg?q=70\n",
      "https://rukminim2.flixcart.com/image/312/312/kqjtd3k0/mobile/s/b/8/c11-2021-rmx3231-realme-original-imag4j4xkqchhfxk.jpeg?q=70\n",
      "https://rukminim2.flixcart.com/image/312/312/kqjtd3k0/mobile/s/b/8/c11-2021-rmx3231-realme-original-imag4j4xkqchhfxk.jpeg?q=70\n",
      "https://rukminim2.flixcart.com/image/312/312/krntoy80/mobile/o/k/3/k50-black-2-8-inch-k50-black-2-8-inch-i-kall-original-imag5ehyckhkh4cd.jpeg?q=70\n",
      "https://rukminim2.flixcart.com/image/312/312/k5msb680/mobile/w/e/j/i-kall-k-60-k60-original-imafza2beqn7rahc.jpeg?q=70\n",
      "https://rukminim2.flixcart.com/image/312/312/kpmy8i80/mobile/q/z/z/m3-pro-5g-mzb0952in-poco-original-imag3th6btkchjn2.jpeg?q=70\n",
      "https://rukminim2.flixcart.com/image/312/312/kmmcrrk0/mobile/y/o/q/8-rmx3085-realme-original-imagfgpgmm6h8ptt.jpeg?q=70\n"
     ]
    }
   ],
   "source": [
    "imgtags = soup.findAll('img',attrs={'class':\"_396cs4 _3exPp9\"})\n",
    "#print(len(imgtags))\n",
    "#print(imgtags)\n",
    "imgsrclist=[img.get('src') for img in imgtags]\n",
    "print(len(imgsrclist))\n",
    "print(*imgsrclist,sep='\\n')"
   ]
  },
  {
   "cell_type": "code",
   "execution_count": null,
   "id": "ed5f33e4",
   "metadata": {},
   "outputs": [],
   "source": []
  }
 ],
 "metadata": {
  "kernelspec": {
   "display_name": "Python 3",
   "language": "python",
   "name": "python3"
  },
  "language_info": {
   "codemirror_mode": {
    "name": "ipython",
    "version": 3
   },
   "file_extension": ".py",
   "mimetype": "text/x-python",
   "name": "python",
   "nbconvert_exporter": "python",
   "pygments_lexer": "ipython3",
   "version": "3.8.8"
  }
 },
 "nbformat": 4,
 "nbformat_minor": 5
}

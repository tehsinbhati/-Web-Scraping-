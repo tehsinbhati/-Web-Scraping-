{
 "cells": [
  {
   "cell_type": "code",
   "execution_count": 42,
   "id": "2aacf0cf",
   "metadata": {},
   "outputs": [],
   "source": [
    "import requests\n",
    "response = requests.get(\"https://www.nykaa.com/makeup/lips/lipstick/c/249\")\n",
    "\n",
    "from bs4 import BeautifulSoup\n",
    "soup = BeautifulSoup(response.content,'html.parser')\n",
    "data= soup.prettify()"
   ]
  },
  {
   "cell_type": "code",
   "execution_count": 45,
   "id": "975f5acb",
   "metadata": {},
   "outputs": [
    {
     "name": "stdout",
     "output_type": "stream",
     "text": [
      "Lipstick list length is =  20\n",
      "Nykaa So Creme! Creamy Matte Lipstick\n",
      "\n",
      "Lakme Absolute Matte Ultimate Lip Color with Argan Oil\n",
      "\n",
      "Charlotte Tilbury K.I.S.S.I.N.G\n",
      "\n",
      "Kay Beauty Matte Drama Long Stay Lipstick\n",
      "\n",
      "asa Lip & Cheek Tint Mini\n",
      "\n",
      "Lakme Forever Matte Liquid Lip Color\n",
      "\n",
      "Maybelline New York Color Sensational Creamy Matte Lipstick\n",
      "\n",
      "M.A.C Lipstick / Mini\n",
      "\n",
      "Faces Canada Ultime Pro Hd Intense Matte Lips + Primer\n",
      "\n",
      "Just Herbs Ayurvedic Matte Lipstick Micro-Mini Trial Kit\n",
      "\n",
      "SUGAR Cosmetics Matte Attack Transferproof Lipstick\n",
      "\n",
      "Maybelline New York Super Stay Crayon Lipstick\n",
      "\n",
      "Kay Beauty Matteinee Matte Lip Crayon Lipstick\n",
      "\n",
      "Nykaa Ultra Matte Mini Lipstick\n",
      "\n",
      "Love Earth Multipot Lip and Cheek Tint\n",
      "\n",
      "Maybelline New York Color Sensational Ultimattes Lipstick\n",
      "\n",
      "Faces Canada Weightless Matte Finish Lipstick\n",
      "\n",
      "Lakme Cushion Matte Lipstick\n",
      "\n",
      "Lakme Lip Love Chapstick SPF 15\n",
      "\n",
      "SUGAR Matte As Hell Crayon Lipstick With Free Sharpener\n"
     ]
    }
   ],
   "source": [
    "#now start to fetchall data using bs for methoid.\n",
    "divlist = soup.findAll('div',attrs={'class':'css-xrzmfa'})\n",
    "#print(divlist)\n",
    "Lipsticklist=[]\n",
    "for div in divlist:\n",
    "    Lipsticklist.append(div.text)\n",
    "print(\"Lipstick list length is = \", len(Lipsticklist))\n",
    "print(*Lipsticklist, sep='\\n\\n')\n",
    "#now start to fetchall data using bs for methoid.\n",
    "\n"
   ]
  },
  {
   "cell_type": "code",
   "execution_count": 46,
   "id": "9a420d16",
   "metadata": {},
   "outputs": [
    {
     "name": "stdout",
     "output_type": "stream",
     "text": [
      "Lipstick price list length is =  20\n",
      "MRP:₹299₹23920% Off\n",
      "MRP:₹800\n",
      "MRP:₹3150\n",
      "MRP:₹999\n",
      "MRP:₹1250\n",
      "MRP:₹295\n",
      "MRP:₹299₹17940% Off\n",
      "MRP:₹1050\n",
      "MRP:₹799₹40050% Off\n",
      "MRP:₹575₹48915% Off\n",
      "MRP:₹699₹62910% Off\n",
      "MRP:₹599₹41930% Off\n",
      "MRP:₹799₹59925% Off\n",
      "MRP:₹239\n",
      "MRP:₹599₹29950% Off\n",
      "MRP:₹549₹43920% Off\n",
      "MRP:₹299₹17940% Off\n",
      "MRP:₹275\n",
      "MRP:₹150\n",
      "MRP:₹799₹71910% Off\n"
     ]
    }
   ],
   "source": [
    "#print(divlist)\n",
    "Lipstickpricelist=[]\n",
    "for div in pricelist:\n",
    "    Lipstickpricelist.append(div.text)\n",
    "print(\"Lipstick price list length is = \",len(Lipstickpricelist))\n",
    "print(*Lipstickpricelist,sep='\\n')"
   ]
  },
  {
   "cell_type": "code",
   "execution_count": 47,
   "id": "00eadc75",
   "metadata": {},
   "outputs": [
    {
     "name": "stdout",
     "output_type": "stream",
     "text": [
      "https://images-static.nykaa.com/media/catalog/product/tr:w-200,h-200,cm-pad_resize/2/3/23790c58904245710927_0.jpg\n",
      "https://images-static.nykaa.com/media/catalog/product/tr:w-200,h-200,cm-pad_resize/2/4/24344_h-8901030724251m.jpg\n",
      "https://images-static.nykaa.com/media/catalog/product/tr:w-200,h-200,cm-pad_resize/5/0/5060542727594_1.jpg\n",
      "https://images-static.nykaa.com/media/catalog/product/tr:w-200,h-200,cm-pad_resize/8/c/8cd4cf5kay_beautylpk_1.jpg\n",
      "https://images-static.nykaa.com/media/catalog/product/tr:w-200,h-200,cm-pad_resize/e/7/e766fd48904329003778_0.jpg\n",
      "https://images-static.nykaa.com/media/catalog/product/tr:w-200,h-200,cm-pad_resize/2/4/24548_h-8901030758898m.jpg\n"
     ]
    }
   ],
   "source": [
    "#css-11gn9r6\n",
    "imgtags = soup.findAll('img',attrs={'class':\"css-11gn9r6\"})\n",
    "#print(len(imgtags))\n",
    "#print(imgtags)\n",
    "imgsrclist=[img.get('src') for img in imgtags]\n",
    "print(*imgsrclist,sep='\\n')"
   ]
  },
  {
   "cell_type": "code",
   "execution_count": null,
   "id": "9cecc105",
   "metadata": {},
   "outputs": [],
   "source": []
  }
 ],
 "metadata": {
  "kernelspec": {
   "display_name": "Python 3",
   "language": "python",
   "name": "python3"
  },
  "language_info": {
   "codemirror_mode": {
    "name": "ipython",
    "version": 3
   },
   "file_extension": ".py",
   "mimetype": "text/x-python",
   "name": "python",
   "nbconvert_exporter": "python",
   "pygments_lexer": "ipython3",
   "version": "3.8.8"
  }
 },
 "nbformat": 4,
 "nbformat_minor": 5
}
